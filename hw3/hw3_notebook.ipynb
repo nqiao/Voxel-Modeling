{
 "cells": [
  {
   "cell_type": "code",
   "execution_count": 17,
   "metadata": {
    "collapsed": true
   },
   "outputs": [],
   "source": [
    "import numpy as np\n",
    "import matplotlib.pyplot as plt\n",
    "%matplotlib inline"
   ]
  },
  {
   "cell_type": "code",
   "execution_count": 43,
   "metadata": {
    "collapsed": true
   },
   "outputs": [],
   "source": [
    "def analysis(ori_arr):\n",
    "    even_res = []\n",
    "    odd_res = []\n",
    "    for i in range(len(ori_arr)):\n",
    "        if i % 2 == 0:\n",
    "            even_res.append((ori_arr[i+1] + ori_arr[i]) / 2)\n",
    "        else:\n",
    "            odd_res.append((ori_arr[i] - ori_arr[i-1]) / 2)\n",
    "    return np.array(even_res), np.array(odd_res)"
   ]
  },
  {
   "cell_type": "code",
   "execution_count": 44,
   "metadata": {},
   "outputs": [
    {
     "name": "stdout",
     "output_type": "stream",
     "text": [
      "[ 1.  1.  1.  1.  1.  1.  1.  1.] [ 0.  0.  0.  0.  0.  0.  0.  0.]\n"
     ]
    }
   ],
   "source": [
    "test_1 = np.ones(16)\n",
    "test_1_even, test_1_odd = analysis(test_1)\n",
    "print(test_1_even, test_1_odd)"
   ]
  },
  {
   "cell_type": "code",
   "execution_count": 45,
   "metadata": {},
   "outputs": [
    {
     "name": "stdout",
     "output_type": "stream",
     "text": [
      "[ 0.          0.06666667  0.13333333  0.2         0.26666667  0.33333333\n",
      "  0.4         0.46666667  0.53333333  0.6         0.66666667  0.73333333\n",
      "  0.8         0.86666667  0.93333333  1.        ] [ 0.03333333  0.16666667  0.3         0.43333333  0.56666667  0.7\n",
      "  0.83333333  0.96666667] [ 0.03333333  0.03333333  0.03333333  0.03333333  0.03333333  0.03333333\n",
      "  0.03333333  0.03333333]\n"
     ]
    }
   ],
   "source": [
    "test_2 = np.linspace(0, 1, 16)\n",
    "test_2_even, test_2_odd = analysis(test_2)\n",
    "print(test_2, test_2_even, test_2_odd)"
   ]
  },
  {
   "cell_type": "code",
   "execution_count": 34,
   "metadata": {},
   "outputs": [
    {
     "name": "stdout",
     "output_type": "stream",
     "text": [
      "[ 0.          0.00444444  0.01777778  0.04        0.07111111  0.11111111\n",
      "  0.16        0.21777778  0.28444444  0.36        0.44444444  0.53777778\n",
      "  0.64        0.75111111  0.87111111  1.        ] [0.0022222222222222222, 0.028888888888888895, 0.091111111111111115, 0.18888888888888891, 0.32222222222222219, 0.49111111111111105, 0.6955555555555557, 0.93555555555555558] [0.0022222222222222222, 0.011111111111111115, 0.019999999999999997, 0.028888888888888881, 0.037777777777777771, 0.046666666666666634, 0.055555555555555525, 0.064444444444444415]\n"
     ]
    }
   ],
   "source": [
    "test_3 = np.linspace(0, 1, 16) ** 2\n",
    "test_3_even, test_3_odd = analysis(test_3)\n",
    "print(test_3, test_3_even, test_3_odd)"
   ]
  },
  {
   "cell_type": "code",
   "execution_count": 35,
   "metadata": {},
   "outputs": [
    {
     "name": "stdout",
     "output_type": "stream",
     "text": [
      "[ 0.83081174  0.99624737  0.38731793  0.2442793   0.53112129  0.21531371\n",
      "  0.85725246  0.4243779   0.75587379  0.59672238  0.43010027  0.12668623\n",
      "  0.50520015  0.06220484  0.55082318  0.46729731] [0.9135295544099824, 0.31579861456300762, 0.3732174982767949, 0.64081518305541663, 0.67629808206726771, 0.27839324952679551, 0.28370249599275082, 0.50906024150702522] [0.082717818804671828, -0.071519311778971528, -0.15790379086826628, -0.21643728047735811, -0.079575703720183133, -0.15170701582823404, -0.22149765614705835, -0.041762933972541272]\n"
     ]
    }
   ],
   "source": [
    "test_4 = np.random.rand(16)\n",
    "test_4_even, test_4_odd = analysis(test_4)\n",
    "print(test_4, test_4_even, test_4_odd)"
   ]
  },
  {
   "cell_type": "code",
   "execution_count": 55,
   "metadata": {},
   "outputs": [
    {
     "data": {
      "image/png": "[encoded data removed]",
      "text/plain": [
       "<matplotlib.figure.Figure at 0x7fca0379c5c0>"
      ]
     },
     "metadata": {},
     "output_type": "display_data"
    }
   ],
   "source": [
    "def plot_analysis(ori_arr, first_arr, second_arr):\n",
    "    n_arr = len(ori_arr)\n",
    "    fig = plt.figure()\n",
    "    plt.plot(ori_arr, 'o', label='original array')\n",
    "    plt.plot([i for i in range(0,n_arr-1,2)], first_arr, 'o', label='first array')\n",
    "    plt.plot([i for i in range(1,n_arr,2)], second_arr, 'o', label='second array')\n",
    "    plt.legend()\n",
    "    plt.savefig(str([ k for k,v in locals().items() if v is ori_arr][0]) + \".jpg\")\n",
    "plot_analysis(test_4, test_4_even, test_4_odd)"
   ]
  },
  {
   "cell_type": "code",
   "execution_count": 51,
   "metadata": {},
   "outputs": [
    {
     "name": "stdout",
     "output_type": "stream",
     "text": [
      "[  0.00000000e+00   0.00000000e+00   2.77555756e-17   0.00000000e+00\n",
      "   0.00000000e+00   0.00000000e+00   0.00000000e+00   0.00000000e+00\n",
      "   0.00000000e+00   0.00000000e+00   0.00000000e+00   0.00000000e+00\n",
      "   0.00000000e+00   0.00000000e+00   0.00000000e+00   0.00000000e+00]\n"
     ]
    }
   ],
   "source": [
    "def synthesis(first_arr, second_arr):\n",
    "    syn_arr = np.stack((first_arr, second_arr))\n",
    "    syn_arr = syn_arr.T\n",
    "    syn_arr = syn_arr.flatten()\n",
    "    n_arr = len(syn_arr)\n",
    "    syn_res = np.empty(n_arr)\n",
    "    for i in range(n_arr):\n",
    "        if i % 2 == 0:\n",
    "            syn_res[i] = syn_arr[i] - syn_arr[i+1]\n",
    "        else:\n",
    "            syn_res[i] = syn_arr[i-1] + syn_arr[i]    \n",
    "    return syn_res\n",
    "\n",
    "syn_1 = synthesis(test_2_even, test_2_odd)\n",
    "print(syn_1 - test_2)"
   ]
  },
  {
   "cell_type": "code",
   "execution_count": 72,
   "metadata": {
    "collapsed": true
   },
   "outputs": [],
   "source": [
    "N = 16\n",
    "init_arr = np.zeros(N)\n",
    "init_arr[-1] = 1\n"
   ]
  },
  {
   "cell_type": "code",
   "execution_count": 109,
   "metadata": {
    "collapsed": true
   },
   "outputs": [],
   "source": [
    "def serial_laplace(u, epoch=10):\n",
    "    n_arr = len(u)\n",
    "    v = u\n",
    "    for e in range(epoch):\n",
    "        for i in range(1, n_arr-1):\n",
    "            v[i] = (u[i-1] + u[i+1]) / 2\n",
    "        u = v\n",
    "    return u"
   ]
  },
  {
   "cell_type": "code",
   "execution_count": 110,
   "metadata": {},
   "outputs": [
    {
     "data": {
      "text/plain": [
       "<matplotlib.legend.Legend at 0x7fca037aeba8>"
      ]
     },
     "execution_count": 110,
     "metadata": {},
     "output_type": "execute_result"
    },
    {
     "data": {
      "image/png": "[encoded data removed]",
      "text/plain": [
       "<matplotlib.figure.Figure at 0x7fca033b78d0>"
      ]
     },
     "metadata": {},
     "output_type": "display_data"
    }
   ],
   "source": [
    "serial_laplace(init_arr, 100)\n",
    "plt.plot(res, 'o', label='res')\n",
    "lin = np.linspace(0,1,16)\n",
    "plt.plot(lin, 'o')\n",
    "plt.legend()\n",
    "# print(res)\n",
    "# print(lin)\n",
    "# print(res - lin)"
   ]
  },
  {
   "cell_type": "code",
   "execution_count": 95,
   "metadata": {},
   "outputs": [
    {
     "data": {
      "text/plain": [
       "0.3185"
      ]
     },
     "execution_count": 95,
     "metadata": {},
     "output_type": "execute_result"
    }
   ],
   "source": [
    "(0.22+0.417)/2"
   ]
  },
  {
   "cell_type": "code",
   "execution_count": null,
   "metadata": {
    "collapsed": true
   },
   "outputs": [],
   "source": []
  }
 ],
 "metadata": {
  "kernelspec": {
   "display_name": "Python 3",
   "language": "python",
   "name": "python3"
  },
  "language_info": {
   "codemirror_mode": {
    "name": "ipython",
    "version": 3
   },
   "file_extension": ".py",
   "mimetype": "text/x-python",
   "name": "python",
   "nbconvert_exporter": "python",
   "pygments_lexer": "ipython3",
   "version": "3.6.3"
  }
 },
 "nbformat": 4,
 "nbformat_minor": 2
}
